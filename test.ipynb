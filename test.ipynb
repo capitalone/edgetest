{
 "cells": [
  {
   "cell_type": "code",
   "execution_count": 1,
   "metadata": {},
   "outputs": [],
   "source": [
    "%load_ext autoreload\n",
    "%autoreload 2"
   ]
  },
  {
   "cell_type": "code",
   "execution_count": 2,
   "metadata": {},
   "outputs": [],
   "source": [
    "from edgetest.utils import convert_requirements, parse_cfg"
   ]
  },
  {
   "cell_type": "code",
   "execution_count": 9,
   "metadata": {},
   "outputs": [],
   "source": [
    "cfg = parse_cfg()"
   ]
  },
  {
   "cell_type": "code",
   "execution_count": 10,
   "metadata": {},
   "outputs": [
    {
     "data": {
      "text/plain": [
       "{'envs': [{'python_version': '3.9',\n",
       "   'upgrade': '\\nCerberus\\nclick\\npluggy\\ntabulate\\npackaging',\n",
       "   'extras': '\\ntests',\n",
       "   'deps': '\\npip-tools',\n",
       "   'name': 'core'},\n",
       "  {'python_version': '3.9',\n",
       "   'lower': '\\nCerberus\\nclick\\npluggy\\ntabulate\\npackaging',\n",
       "   'extras': '\\ntests',\n",
       "   'deps': '\\npip-tools',\n",
       "   'name': 'low'}]}"
      ]
     },
     "execution_count": 10,
     "metadata": {},
     "output_type": "execute_result"
    }
   ],
   "source": [
    "cfg"
   ]
  },
  {
   "cell_type": "code",
   "execution_count": 11,
   "metadata": {},
   "outputs": [],
   "source": [
    "import os\n",
    "from configparser import ConfigParser\n",
    "from contextlib import contextmanager\n",
    "from copy import deepcopy\n",
    "from pathlib import Path\n",
    "from subprocess import PIPE, Popen\n",
    "from typing import Any, Dict, List, Optional, Tuple, Union\n",
    "\n",
    "from packaging.specifiers import SpecifierSet\n",
    "from pkg_resources import parse_requirements\n",
    "from tomlkit import TOMLDocument, load\n",
    "from tomlkit.container import Container\n",
    "from tomlkit.items import Array, Item, String, Table"
   ]
  },
  {
   "cell_type": "code",
   "execution_count": 12,
   "metadata": {},
   "outputs": [
    {
     "data": {
      "text/plain": [
       "['setup.cfg']"
      ]
     },
     "execution_count": 12,
     "metadata": {},
     "output_type": "execute_result"
    }
   ],
   "source": [
    "config = ConfigParser()\n",
    "config.read(\"setup.cfg\")"
   ]
  },
  {
   "cell_type": "code",
   "execution_count": 15,
   "metadata": {},
   "outputs": [
    {
     "data": {
      "text/plain": [
       "['metadata',\n",
       " 'options',\n",
       " 'options.extras_require',\n",
       " 'options.entry_points',\n",
       " 'bumpver',\n",
       " 'bumpver:file_patterns',\n",
       " 'aliases',\n",
       " 'bdist_wheel',\n",
       " 'flake8',\n",
       " 'isort',\n",
       " 'mypy',\n",
       " 'pylint',\n",
       " 'tool:pytest',\n",
       " 'edgetest.envs.core',\n",
       " 'edgetest.envs.low']"
      ]
     },
     "execution_count": 15,
     "metadata": {},
     "output_type": "execute_result"
    }
   ],
   "source": [
    "config.sections()"
   ]
  },
  {
   "cell_type": "code",
   "execution_count": 17,
   "metadata": {},
   "outputs": [],
   "source": [
    "requirements = config.get(\"options\", \"install_requires\")"
   ]
  },
  {
   "cell_type": "code",
   "execution_count": 18,
   "metadata": {},
   "outputs": [],
   "source": [
    "pkgs = [pkg for pkg in parse_requirements(requirements)]"
   ]
  },
  {
   "cell_type": "code",
   "execution_count": 23,
   "metadata": {},
   "outputs": [
    {
     "data": {
      "text/plain": [
       "{'>=': '1.3.0', '<=': '1.3.4'}"
      ]
     },
     "execution_count": 23,
     "metadata": {},
     "output_type": "execute_result"
    }
   ],
   "source": [
    "dict(pkgs[0].specs)"
   ]
  },
  {
   "cell_type": "code",
   "execution_count": 29,
   "metadata": {},
   "outputs": [],
   "source": [
    "from pkg_resources import Requirement\n",
    "\n",
    "\n",
    "def get_lower_bound(req: Requirement) -> str:\n",
    "    specs = {comparator.strip(): version for comparator, version in req.specs}\n",
    "    lower = specs.get(\">=\")\n",
    "    if lower is None:\n",
    "        raise RuntimeError(f\"Dependency {req.project_name} has no lower bound specified.\")\n",
    "    return lower"
   ]
  },
  {
   "cell_type": "code",
   "execution_count": 30,
   "metadata": {},
   "outputs": [],
   "source": [
    "x = get_lower_bound(pkgs[0])"
   ]
  },
  {
   "cell_type": "code",
   "execution_count": 31,
   "metadata": {},
   "outputs": [
    {
     "data": {
      "text/plain": [
       "'1.3.0'"
      ]
     },
     "execution_count": 31,
     "metadata": {},
     "output_type": "execute_result"
    }
   ],
   "source": [
    "x"
   ]
  },
  {
   "cell_type": "code",
   "execution_count": null,
   "metadata": {},
   "outputs": [],
   "source": []
  }
 ],
 "metadata": {
  "kernelspec": {
   "display_name": "edgetest",
   "language": "python",
   "name": "python3"
  },
  "language_info": {
   "codemirror_mode": {
    "name": "ipython",
    "version": 3
   },
   "file_extension": ".py",
   "mimetype": "text/x-python",
   "name": "python",
   "nbconvert_exporter": "python",
   "pygments_lexer": "ipython3",
   "version": "3.10.12"
  },
  "orig_nbformat": 4
 },
 "nbformat": 4,
 "nbformat_minor": 2
}
